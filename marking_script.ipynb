{
 "cells": [
  {
   "cell_type": "code",
   "execution_count": 1,
   "id": "5d494667-4fd8-4830-90a6-83b864ce8cb2",
   "metadata": {
    "tags": []
   },
   "outputs": [
    {
     "name": "stdout",
     "output_type": "stream",
     "text": [
      "Requirement already satisfied: torch in /Users/naman/opt/anaconda3/lib/python3.9/site-packages (2.0.1)\n",
      "Requirement already satisfied: jinja2 in /Users/naman/opt/anaconda3/lib/python3.9/site-packages (from torch) (2.11.3)\n",
      "Requirement already satisfied: sympy in /Users/naman/opt/anaconda3/lib/python3.9/site-packages (from torch) (1.10.1)\n",
      "Requirement already satisfied: filelock in /Users/naman/opt/anaconda3/lib/python3.9/site-packages (from torch) (3.6.0)\n",
      "Requirement already satisfied: typing-extensions in /Users/naman/opt/anaconda3/lib/python3.9/site-packages (from torch) (4.3.0)\n",
      "Requirement already satisfied: networkx in /Users/naman/opt/anaconda3/lib/python3.9/site-packages (from torch) (2.8.4)\n",
      "Requirement already satisfied: MarkupSafe>=0.23 in /Users/naman/opt/anaconda3/lib/python3.9/site-packages (from jinja2->torch) (2.0.1)\n",
      "Requirement already satisfied: mpmath>=0.19 in /Users/naman/opt/anaconda3/lib/python3.9/site-packages (from sympy->torch) (1.2.1)\n",
      "Note: you may need to restart the kernel to use updated packages.\n",
      "Requirement already satisfied: torchvision in /Users/naman/opt/anaconda3/lib/python3.9/site-packages (0.15.2)\n",
      "Requirement already satisfied: requests in /Users/naman/opt/anaconda3/lib/python3.9/site-packages (from torchvision) (2.28.1)\n",
      "Requirement already satisfied: torch==2.0.1 in /Users/naman/opt/anaconda3/lib/python3.9/site-packages (from torchvision) (2.0.1)\n",
      "Requirement already satisfied: numpy in /Users/naman/opt/anaconda3/lib/python3.9/site-packages (from torchvision) (1.21.5)\n",
      "Requirement already satisfied: pillow!=8.3.*,>=5.3.0 in /Users/naman/opt/anaconda3/lib/python3.9/site-packages (from torchvision) (9.2.0)\n",
      "Requirement already satisfied: jinja2 in /Users/naman/opt/anaconda3/lib/python3.9/site-packages (from torch==2.0.1->torchvision) (2.11.3)\n",
      "Requirement already satisfied: filelock in /Users/naman/opt/anaconda3/lib/python3.9/site-packages (from torch==2.0.1->torchvision) (3.6.0)\n",
      "Requirement already satisfied: sympy in /Users/naman/opt/anaconda3/lib/python3.9/site-packages (from torch==2.0.1->torchvision) (1.10.1)\n",
      "Requirement already satisfied: networkx in /Users/naman/opt/anaconda3/lib/python3.9/site-packages (from torch==2.0.1->torchvision) (2.8.4)\n",
      "Requirement already satisfied: typing-extensions in /Users/naman/opt/anaconda3/lib/python3.9/site-packages (from torch==2.0.1->torchvision) (4.3.0)\n",
      "Requirement already satisfied: certifi>=2017.4.17 in /Users/naman/opt/anaconda3/lib/python3.9/site-packages (from requests->torchvision) (2022.9.24)\n",
      "Requirement already satisfied: urllib3<1.27,>=1.21.1 in /Users/naman/opt/anaconda3/lib/python3.9/site-packages (from requests->torchvision) (1.26.11)\n",
      "Requirement already satisfied: charset-normalizer<3,>=2 in /Users/naman/opt/anaconda3/lib/python3.9/site-packages (from requests->torchvision) (2.0.4)\n",
      "Requirement already satisfied: idna<4,>=2.5 in /Users/naman/opt/anaconda3/lib/python3.9/site-packages (from requests->torchvision) (3.3)\n",
      "Requirement already satisfied: MarkupSafe>=0.23 in /Users/naman/opt/anaconda3/lib/python3.9/site-packages (from jinja2->torch==2.0.1->torchvision) (2.0.1)\n",
      "Requirement already satisfied: mpmath>=0.19 in /Users/naman/opt/anaconda3/lib/python3.9/site-packages (from sympy->torch==2.0.1->torchvision) (1.2.1)\n",
      "Note: you may need to restart the kernel to use updated packages.\n"
     ]
    }
   ],
   "source": [
    "%run my_classifier.ipynb"
   ]
  },
  {
   "cell_type": "code",
   "execution_count": 2,
   "id": "5078fa8f-171f-4331-b50b-dcbbe4141c0f",
   "metadata": {
    "tags": []
   },
   "outputs": [
    {
     "name": "stderr",
     "output_type": "stream",
     "text": [
      "Downloading: \"https://download.pytorch.org/models/resnet18-f37072fd.pth\" to /Users/naman/.cache/torch/hub/checkpoints/resnet18-f37072fd.pth\n",
      "100%|██████████| 44.7M/44.7M [00:05<00:00, 9.28MB/s]\n"
     ]
    },
    {
     "name": "stdout",
     "output_type": "stream",
     "text": [
      "Testing performance for Naman Khosla: N11507721\n",
      "########################################################################\n",
      "Loading model...\n",
      "Testing image...\n",
      "Prediction is in an acceptable format.\n",
      "Prediction was: flower_3\n"
     ]
    }
   ],
   "source": [
    "submission = MyClassifier()\n",
    "\n",
    "print(f'Testing performance for {submission.full_name}: {submission.student_id}')\n",
    "print('########################################################################')\n",
    "\n",
    "print('Loading model...')\n",
    "submission.load_model()\n",
    "\n",
    "print('Testing image...')\n",
    "prediction = submission.test_image('c1.jpeg')\n",
    "\n",
    "if prediction not in ['flower_1', 'flower_2', 'flower_3', 'flower_4', 'flower_5',\n",
    "                             'weed_1', 'weed_2', 'weed_3', 'weed_4', 'weed_5']:\n",
    "    print('There is a problem with the prediction. It does not match any of the class labels.')\n",
    "    print(f'Prediction was: {prediction}')\n",
    "else:\n",
    "    print('Prediction is in an acceptable format.')\n",
    "    print(f'Prediction was: {prediction}')"
   ]
  }
 ],
 "metadata": {
  "kernelspec": {
   "display_name": "Python 3 (ipykernel)",
   "language": "python",
   "name": "python3"
  },
  "language_info": {
   "codemirror_mode": {
    "name": "ipython",
    "version": 3
   },
   "file_extension": ".py",
   "mimetype": "text/x-python",
   "name": "python",
   "nbconvert_exporter": "python",
   "pygments_lexer": "ipython3",
   "version": "3.9.18"
  }
 },
 "nbformat": 4,
 "nbformat_minor": 5
}
